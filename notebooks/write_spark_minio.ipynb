{
 "cells": [
  {
   "cell_type": "code",
   "execution_count": null,
   "metadata": {
    "vscode": {
     "languageId": "plaintext"
    }
   },
   "outputs": [],
   "source": [
    "import pandas as pd\n",
    "import random\n",
    "from datetime import datetime, timedelta\n",
    "import boto3\n",
    "import logging"
   ]
  },
  {
   "cell_type": "code",
   "execution_count": null,
   "metadata": {
    "vscode": {
     "languageId": "plaintext"
    }
   },
   "outputs": [],
   "source": [
    "# Configuração do Logger\n",
    "logging.basicConfig(\n",
    "    level=logging.INFO,\n",
    "    format=\"%(asctime)s - %(levelname)s - %(message)s\"\n",
    ")\n",
    "logger = logging.getLogger(__name__)"
   ]
  },
  {
   "cell_type": "code",
   "execution_count": null,
   "metadata": {
    "vscode": {
     "languageId": "plaintext"
    }
   },
   "outputs": [],
   "source": [
    "# Função para gerar dados fictícios\n",
    "def gerar_dados_vendas(num_linhas):\n",
    "    produtos = [\"Laptop\", \"Smartphone\", \"Tablet\", \"Monitor\", \"Keyboard\", \"Mouse\", \"Headphones\", \"Printer\"]\n",
    "    data_inicial = datetime(2024, 11, 1)\n",
    "    \n",
    "    dados = []\n",
    "    logger.info(\"Iniciando a geração de dados fictícios.\")\n",
    "    for i in range(1, num_linhas + 1):\n",
    "        sale_id = i\n",
    "        product = random.choice(produtos)\n",
    "        amount = round(random.uniform(50.0, 2000.0), 2)  # Valor entre 50 e 2000\n",
    "        sale_date = (data_inicial + timedelta(days=random.randint(0, 30))).strftime(\"%Y-%m-%d\")\n",
    "        dados.append({\"sale_id\": sale_id, \"product\": product, \"amount\": amount, \"sale_date\": sale_date})\n",
    "        \n",
    "        if i % (num_linhas // 10) == 0:  # Log a cada 10% dos dados gerados\n",
    "            logger.info(f\"{i} de {num_linhas} linhas geradas.\")\n",
    "    \n",
    "    logger.info(\"Geração de dados concluída.\")\n",
    "    return pd.DataFrame(dados)"
   ]
  },
  {
   "cell_type": "code",
   "execution_count": null,
   "metadata": {
    "vscode": {
     "languageId": "plaintext"
    }
   },
   "outputs": [],
   "source": [
    "# Configurações do MinIO\n",
    "# TODO: Informar endpoint do MinIO, a chave de acesso e a chave secreta.\n",
    "minio_config = {\n",
    "    \"endpoint_url\": \"http://vmi2122960.contaboserver.net:9000\",  # Atualize conforme necessário\n",
    "    \"aws_access_key_id\": \"admin\",\n",
    "    \"aws_secret_access_key\": \"password\",\n",
    "}"
   ]
  },
  {
   "cell_type": "code",
   "execution_count": null,
   "metadata": {
    "vscode": {
     "languageId": "plaintext"
    }
   },
   "outputs": [],
   "source": [
    "# TODO: Informar o nome do bucket onde está os arquivos. Exemplo: 'prd-data-raw'\n",
    "bucket_name = \"prd-data-raw\"\n",
    "csv_file_name = \"vendas.csv\""
   ]
  },
  {
   "cell_type": "code",
   "execution_count": null,
   "metadata": {
    "vscode": {
     "languageId": "plaintext"
    }
   },
   "outputs": [],
   "source": [
    "try:\n",
    "    # Gerar DataFrame\n",
    "    num_linhas = 1000000\n",
    "    logger.info(f\"Gerando DataFrame com {num_linhas} linhas.\")\n",
    "    df = gerar_dados_vendas(num_linhas)\n",
    "    \n",
    "    # Salvar DataFrame como CSV em memória\n",
    "    logger.info(\"Convertendo DataFrame para CSV em memória.\")\n",
    "    csv_buffer = df.to_csv(index=False)\n",
    "    \n",
    "    # Criar cliente boto3 para o MinIO\n",
    "    logger.info(\"Conectando ao MinIO com as configurações fornecidas.\")\n",
    "    s3_client = boto3.client(\"s3\", **minio_config)\n",
    "    \n",
    "    # Fazer upload do CSV para o MinIO\n",
    "    logger.info(f\"Fazendo upload do arquivo CSV para o bucket '{bucket_name}' no MinIO.\")\n",
    "    s3_client.put_object(\n",
    "        Bucket=bucket_name,\n",
    "        Key=f\"vendas/{csv_file_name}\",\n",
    "        Body=csv_buffer,\n",
    "        ContentType=\"text/csv\"\n",
    "    )\n",
    "    logger.info(f\"Upload concluído: {csv_file_name} no bucket '{bucket_name}'.\")\n",
    "except Exception as e:\n",
    "    logger.error(f\"Erro durante o processo: {e}\")"
   ]
  }
 ],
 "metadata": {
  "language_info": {
   "name": "python"
  }
 },
 "nbformat": 4,
 "nbformat_minor": 2
}
